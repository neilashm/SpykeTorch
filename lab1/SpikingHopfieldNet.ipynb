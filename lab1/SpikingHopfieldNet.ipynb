{
 "cells": [
  {
   "cell_type": "code",
   "execution_count": null,
   "metadata": {},
   "outputs": [],
   "source": [
    "import torch\n",
    "import torch.nn as nn\n",
    "from torch.utils.data import DataLoader\n",
    "from torchvision.datasets import ImageFolder\n",
    "from torch.nn.parameter import Parameter\n",
    "import torchvision\n",
    "from torchvision import transforms\n",
    "\n",
    "from SpykeTorch import snn\n",
    "from SpykeTorch import functional as sf\n",
    "from SpykeTorch import visualization as vis\n",
    "from SpykeTorch import utils\n",
    "#from SpykeTorch import makeInput\n",
    "#import cifar10\n",
    "\n",
    "import numpy as np\n",
    "from scipy.spatial import distance\n",
    "import matplotlib.pyplot as plt\n",
    "import matplotlib.cm as cm\n",
    "import time"
   ]
  },
  {
   "cell_type": "code",
   "execution_count": null,
   "metadata": {},
   "outputs": [],
   "source": [
    "rf_size = 28 # Receptive field size that will be provided as input to the column\n",
    "num_neurons = rf_size*rf_size # Number of excitatory neurons in the column\n",
    "startposition = 0 # Start position of the receptive field w.r.t. top left corner of image\n",
    "threshold = 75 # Firing threshold for every excitatory neuron\n",
    "timesteps = 8 # Resolution for timesteps and weights\n",
    "\n",
    "\n",
    "#if torch.cuda.is_available():\n",
    "#    torch.set_default_tensor_type('torch.cuda.FloatTensor')\n",
    "#    dtype = torch.cuda.FloatTensor"
   ]
  },
  {
   "cell_type": "code",
   "execution_count": null,
   "metadata": {},
   "outputs": [],
   "source": [
    "class PreProcTransform:\n",
    "    def __init__(self, filter, timesteps = timesteps):\n",
    "        self.to_tensor = transforms.ToTensor() # Convert to tensor\n",
    "        self.filter = filter # Apply OnOff filtering\n",
    "        self.temporal_transform = utils.Intensity2Latency(timesteps) # Convert pixel values to time\n",
    "                                                    # Higher value corresponds to earlier spiketime\n",
    "        self.crop = utils.Crop(startposition, rf_size) # Crop the image to form the receptive field\n",
    "        \n",
    "    def __call__(self, image):\n",
    "        image = self.to_tensor(image) * 255\n",
    "        image.unsqueeze_(0) # Adds a temporal dimension at the beginning\n",
    "        image = self.filter(image)\n",
    "        temporal_image = self.temporal_transform(image)\n",
    "        temporal_image = temporal_image.sign() # This will create spikes\n",
    "        return self.crop(temporal_image)\n",
    "        \n",
    "kernels = [utils.OnKernel(3), utils.OffKernel(3)]\n",
    "inchannels = len(kernels)\n",
    "\n",
    "filter = utils.Filter(kernels, padding = 2, thresholds = 50)\n",
    "preproc = PreProcTransform(filter)"
   ]
  },
  {
   "cell_type": "code",
   "execution_count": null,
   "metadata": {},
   "outputs": [],
   "source": [
    "data_root = \"data\"\n",
    "MNIST_train = utils.CacheDataset(torchvision.datasets.MNIST(root=data_root, train=True, download=True, transform = preproc))\n",
    "MNIST_test = utils.CacheDataset(torchvision.datasets.MNIST(root=data_root, train=False, download=True, transform = preproc))\n",
    "MNIST_trainLoader = DataLoader(MNIST_train, batch_size=1000, shuffle=True)\n",
    "MNIST_testLoader = DataLoader(MNIST_test, batch_size=1000, shuffle=True)"
   ]
  },
  {
   "cell_type": "code",
   "execution_count": null,
   "metadata": {},
   "outputs": [],
   "source": [
    "class Column(nn.Module):\n",
    "    def __init__(self):\n",
    "        super(Column, self).__init__()\n",
    "        # Local Convolution layer which creates columns with unique weights (NOT shared weights). The\n",
    "        # number of columns is based on input_size, kernel_size and stride. Here since we are simulating\n",
    "        # only one column, the input_size and kernel_size are kept same.\n",
    "        self.ec = snn.HopfieldNetwork(10/128, 10/128, 24/128, 72/128, 4/128, timesteps)\n",
    "        # STDP module which implements the given STDP rule for the above layer (a single column in this case)\n",
    "        self.stdp = snn.ModSTDP(self.ec, 10/128, 10/128, 1/128, 96/128, 4/128, maxweight = timesteps)\n",
    "        \n",
    "    def forward(self, rec_field):\n",
    "        ### Start of Excitatory Column ###\n",
    "        out = self.ec(rec_field)\n",
    "        #spike, pot = sf.fire(out, threshold, True)\n",
    "        ### End of Excitatory Column ###\n",
    "        ### Start of Lateral Inhibition ###\n",
    "        #out = sf.pointwise_inhibition(pot).sign()\n",
    "        ### End of Lateral Inhibition ###\n",
    "        return out"
   ]
  },
  {
   "cell_type": "code",
   "execution_count": null,
   "metadata": {},
   "outputs": [],
   "source": [
    "# MyColumn=Column()\n",
    "# train_pattern=[torch.sum(torch.sum(MNIST_train[1][0],dim=0))]#,torch.sum(torch.sum(MNIST_train[2][0],dim=0),dim=0)]#[torch.tensor([7,0,0,0,0,7,0,0,0,0,7,0,0,0,0,7]).type(torch.FloatTensor).reshape(4,4)]\n",
    "# MyColumn.ec.train_weights(train_pattern)#[torch.tensor([0,1,2,3,4,5,6,7]*2).reshape(4,4)])#[torch.sum(torch.sum(MNIST_train[0][0],dim=0),dim=0)])\n",
    "# plt.imshow(train_pattern[0])#torch.tensor([0,1,2,3,4,5,6,7]*2).reshape(4,4))#torch.sum(torch.sum(MNIST_train[0][0],dim=0),dim=0))\n",
    "# #MyColumn.ec.train_weights([torch.sum(torch.sum(MNIST_train[0][0],dim=0),dim=0)])\n",
    "# #plt.imshow(torch.sum(torch.sum(MNIST_train[0][0],dim=0),dim=0))\n",
    "\n",
    "\n",
    "MyColumn=Column()\n",
    "train_pattern = []\n",
    "for i in range(0,2):\n",
    "    train_pattern.append(torch.sum(torch.sum(MNIST_train[i][0],dim=0),dim=0))\n",
    "#train_pattern=[torch.sum(torch.sum(MNIST_train[1][0],dim=0),dim=0)]#,torch.sum(torch.sum(MNIST_train[2][0],dim=0), dim=0)]#[torch.tensor([7,0,0,0,0,7,0,0,0,0,7,0,0,0,0,7]).type(torch.FloatTensor).reshape(4,4)]\n",
    "#train_pattern is 1x28x28\n",
    "MyColumn.ec.train_weights(train_pattern)\n",
    "\n",
    "noSTDPcolumn = Column()\n",
    "noSTDPcolumn.ec.train_weights(train_pattern)\n",
    "#plt.imshow(train_pattern[4])"
   ]
  },
  {
   "cell_type": "code",
   "execution_count": null,
   "metadata": {},
   "outputs": [],
   "source": [
    "plt.figure(figsize=(6, 5))\n",
    "w_mat = plt.imshow(MyColumn.ec.W, cmap=cm.coolwarm)\n",
    "plt.colorbar(w_mat)\n",
    "plt.title(\"Network Weights\")\n",
    "plt.tight_layout()\n",
    "plt.savefig(\"weights.png\")\n",
    "plt.show()"
   ]
  },
  {
   "cell_type": "markdown",
   "metadata": {},
   "source": [
    "init_weights = MyColumn.ec.W.clone()"
   ]
  },
  {
   "cell_type": "markdown",
   "metadata": {
    "tags": [
     "outputPrepend",
     "outputPrepend",
     "outputPrepend",
     "outputPrepend",
     "outputPrepend",
     "outputPrepend",
     "outputPrepend",
     "outputPrepend",
     "outputPrepend",
     "outputPrepend",
     "outputPrepend",
     "outputPrepend",
     "outputPrepend",
     "outputPrepend",
     "outputPrepend",
     "outputPrepend",
     "outputPrepend",
     "outputPrepend",
     "outputPrepend",
     "outputPrepend",
     "outputPrepend",
     "outputPrepend",
     "outputPrepend",
     "outputPrepend",
     "outputPrepend",
     "outputPrepend",
     "outputPrepend",
     "outputPrepend",
     "outputPrepend",
     "outputPrepend",
     "outputPrepend",
     "outputPrepend",
     "outputPrepend",
     "outputPrepend",
     "outputPrepend",
     "outputPrepend",
     "outputPrepend",
     "outputPrepend",
     "outputPrepend",
     "outputPrepend",
     "outputPrepend",
     "outputPrepend",
     "outputPrepend",
     "outputPrepend",
     "outputPrepend",
     "outputPrepend",
     "outputPrepend",
     "outputPrepend",
     "outputPrepend",
     "outputPrepend",
     "outputPrepend",
     "outputPrepend",
     "outputPrepend",
     "outputPrepend",
     "outputPrepend",
     "outputPrepend",
     "outputPrepend",
     "outputPrepend",
     "outputPrepend",
     "outputPrepend",
     "outputPrepend",
     "outputPrepend",
     "outputPrepend",
     "outputPrepend",
     "outputPrepend",
     "outputPrepend",
     "outputPrepend",
     "outputPrepend",
     "outputPrepend",
     "outputPrepend",
     "outputPrepend",
     "outputPrepend",
     "outputPrepend",
     "outputPrepend",
     "outputPrepend",
     "outputPrepend",
     "outputPrepend",
     "outputPrepend",
     "outputPrepend",
     "outputPrepend",
     "outputPrepend",
     "outputPrepend",
     "outputPrepend",
     "outputPrepend",
     "outputPrepend",
     "outputPrepend",
     "outputPrepend",
     "outputPrepend",
     "outputPrepend",
     "outputPrepend",
     "outputPrepend",
     "outputPrepend",
     "outputPrepend",
     "outputPrepend",
     "outputPrepend",
     "outputPrepend",
     "outputPrepend",
     "outputPrepend",
     "outputPrepend",
     "outputPrepend",
     "outputPrepend",
     "outputPrepend",
     "outputPrepend",
     "outputPrepend",
     "outputPrepend",
     "outputPrepend",
     "outputPrepend",
     "outputPrepend",
     "outputPrepend",
     "outputPrepend",
     "outputPrepend",
     "outputPrepend",
     "outputPrepend",
     "outputPrepend",
     "outputPrepend",
     "outputPrepend",
     "outputPrepend",
     "outputPrepend",
     "outputPrepend",
     "outputPrepend",
     "outputPrepend",
     "outputPrepend",
     "outputPrepend",
     "outputPrepend",
     "outputPrepend",
     "outputPrepend"
    ]
   },
   "source": [
    "out=[]\n",
    "weights=[]\n",
    "for i in range(100):\n",
    "    pattern=[torch.sum(MNIST_train[26][0],dim=1).reshape(8,784).clone(),torch.sum(MNIST_train[31][0],dim=1).reshape(8,784).clone()]\n",
    "    #torch.tensor([0]*784).type(torch.FloatTensor)#torch.tensor([2,6,3,1,7,4,5,2,7,7,7,7,3,7,5,5]).type(torch.FloatTensor)#(torch.tensor([0,1,2,3,4,5,6,7]*2).type(torch.FloatTensor))#torch.sum(torch.sum(MNIST_train[1][0],dim=0),dim=0).reshape(784)-4)/4\n",
    "    out.append(MyColumn.ec.forward(pattern,threshold=100,num_iter=20).clone())\n",
    "    weights.append(MyColumn.ec.W.clone())"
   ]
  },
  {
   "cell_type": "code",
   "execution_count": null,
   "metadata": {},
   "outputs": [],
   "source": [
    "outSTDP=[]\n",
    "out = []\n",
    "for i in range(0,2):\n",
    "    testPattern = []\n",
    "    testPattern.append(torch.sum(MNIST_train[i][0],dim=1).reshape(8,784).clone())\n",
    "    out.append(noSTDPcolumn.ec.forward(testPattern,threshold=100,num_iter=20, noSTDP=True).clone())\n",
    "\n",
    "for j in range(0,40):\n",
    "    array = []\n",
    "    for i in range(0,2):\n",
    "        testPattern = []\n",
    "        testPattern.append(torch.sum(MNIST_train[i][0],dim=1).reshape(8,784).clone())\n",
    "        array.append(MyColumn.ec.forward(testPattern,threshold=100,num_iter=20).clone())\n",
    "    outSTDP.append(array)"
   ]
  },
  {
   "cell_type": "code",
   "execution_count": null,
   "metadata": {},
   "outputs": [],
   "source": [
    "it = 40\n",
    "\n",
    "for i in range(0,2):\n",
    "    plt.subplot(2,2,i+1), plt.imshow(train_pattern[i])\n",
    "    plt.subplot(2,2,2+1+i), plt.imshow(torch.sum(outSTDP[it-1][i].squeeze(0),dim=0))\n",
    "plt.savefig(\"two_zeroWeightInit_\"+ str(it)+ \".png\")"
   ]
  },
  {
   "cell_type": "markdown",
   "metadata": {},
   "source": [
    "test = [torch.sum(MNIST_train[31][0],dim=1).reshape(8,784)]\n",
    "plt.imshow(torch.sum(MyColumn.ec.forward(test,threshold=100,num_iter=20).squeeze(0),dim=0))"
   ]
  },
  {
   "cell_type": "markdown",
   "metadata": {},
   "source": [
    "plt.imshow(torch.sum(torch.sum(MNIST_train[31][0],dim=1),dim=0))"
   ]
  },
  {
   "cell_type": "code",
   "execution_count": null,
   "metadata": {},
   "outputs": [],
   "source": [
    "it = 16\n",
    "for i in range(0,2):\n",
    "    plt.subplot(3,2,i+1), plt.imshow(train_pattern[i])\n",
    "    plt.subplot(3,2,2+1+i), plt.imshow(torch.sum(out[i].squeeze(0),dim=0))\n",
    "    plt.subplot(3,2,4+1+i), plt.imshow(torch.sum(outSTDP[it-1][i].squeeze(0),dim=0))\n",
    "plt.savefig(\"two_heb_\"+ str(it)+\".png\")"
   ]
  },
  {
   "cell_type": "code",
   "execution_count": null,
   "metadata": {},
   "outputs": [],
   "source": [
    "plt.imshow(torch.sum(outSTDP[69][2].squeeze(0),dim=0))"
   ]
  },
  {
   "cell_type": "code",
   "execution_count": null,
   "metadata": {},
   "outputs": [],
   "source": [
    "plt.imshow(torch.sum(outSTDP[19][1].squeeze(0),dim=0))\n"
   ]
  },
  {
   "cell_type": "code",
   "execution_count": null,
   "metadata": {},
   "outputs": [],
   "source": [
    "plt.imshow(train_pattern[1])"
   ]
  },
  {
   "cell_type": "code",
   "execution_count": null,
   "metadata": {},
   "outputs": [],
   "source": [
    "np.unique(torch.sum(out.squeeze(0),dim=0))"
   ]
  },
  {
   "cell_type": "code",
   "execution_count": null,
   "metadata": {},
   "outputs": [],
   "source": [
    "np.unique(torch.sum(pattern,dim=0).reshape(28,28))"
   ]
  },
  {
   "cell_type": "code",
   "execution_count": null,
   "metadata": {},
   "outputs": [],
   "source": [
    "pattern"
   ]
  },
  {
   "cell_type": "code",
   "execution_count": null,
   "metadata": {},
   "outputs": [],
   "source": [
    "distance.hamming(out.reshape(784),(train_pattern[0]-4).reshape(784))"
   ]
  },
  {
   "cell_type": "code",
   "execution_count": null,
   "metadata": {},
   "outputs": [],
   "source": [
    "distance.hamming(out.reshape(784),(pattern-4))"
   ]
  },
  {
   "cell_type": "code",
   "execution_count": null,
   "metadata": {},
   "outputs": [],
   "source": [
    "out.squeeze(0).shape"
   ]
  },
  {
   "cell_type": "code",
   "execution_count": null,
   "metadata": {},
   "outputs": [],
   "source": [
    "np.unique(MyColumn.ec.W)"
   ]
  },
  {
   "cell_type": "code",
   "execution_count": null,
   "metadata": {},
   "outputs": [],
   "source": []
  },
  {
   "cell_type": "code",
   "execution_count": null,
   "metadata": {},
   "outputs": [],
   "source": [
    "out.shape"
   ]
  },
  {
   "cell_type": "code",
   "execution_count": null,
   "metadata": {},
   "outputs": [],
   "source": [
    "plt.imshow(init_weights-weights[95],cmap=cm.coolwarm)"
   ]
  },
  {
   "cell_type": "code",
   "execution_count": null,
   "metadata": {},
   "outputs": [],
   "source": [
    "plt.imshow(MyColumn.ec.W,cmap=cm.coolwarm)"
   ]
  },
  {
   "cell_type": "code",
   "execution_count": null,
   "metadata": {},
   "outputs": [],
   "source": [
    "torch.max(MyColumn.ec.W)"
   ]
  },
  {
   "cell_type": "code",
   "execution_count": null,
   "metadata": {},
   "outputs": [],
   "source": [
    "torch.min(MyColumn.ec.W)"
   ]
  },
  {
   "cell_type": "code",
   "execution_count": null,
   "metadata": {},
   "outputs": [],
   "source": [
    "train_pattern"
   ]
  },
  {
   "cell_type": "code",
   "execution_count": null,
   "metadata": {},
   "outputs": [],
   "source": [
    "plt.imshow(torch.sum(out[0].squeeze(0),dim=0)-torch.sum(out[99].squeeze(0),dim=0))"
   ]
  },
  {
   "cell_type": "code",
   "execution_count": null,
   "metadata": {},
   "outputs": [],
   "source": [
    "plt.imshow(torch.sum(torch.sum(MNIST_train[19][0],dim=1),dim=0).reshape(28,28))"
   ]
  },
  {
   "cell_type": "code",
   "execution_count": null,
   "metadata": {},
   "outputs": [],
   "source": []
  },
  {
   "cell_type": "code",
   "execution_count": null,
   "metadata": {},
   "outputs": [],
   "source": []
  }
 ],
 "metadata": {
  "colab": {
   "collapsed_sections": [],
   "name": "Hopfield_Test.ipynb",
   "provenance": [],
   "toc_visible": true
  },
  "kernelspec": {
   "display_name": "Python 3.7.4 64-bit ('base': conda)",
   "language": "python",
   "name": "python37464bitbasecondabfcc0a7a26b944e1bee81147aca1ba8a"
  },
  "language_info": {
   "codemirror_mode": {
    "name": "ipython",
    "version": 3
   },
   "file_extension": ".py",
   "mimetype": "text/x-python",
   "name": "python",
   "nbconvert_exporter": "python",
   "pygments_lexer": "ipython3",
   "version": "3.7.4-final"
  }
 },
 "nbformat": 4,
 "nbformat_minor": 1
}